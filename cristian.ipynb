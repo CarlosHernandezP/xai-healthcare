{
 "cells": [
  {
   "cell_type": "code",
   "execution_count": null,
   "metadata": {},
   "outputs": [],
   "source": [
    "import pandas as pd\n",
    "import numpy as np\n",
    "from preprocessing import pre_process_seer_alternative\n",
    "from sksurv.linear_model import CoxPHSurvivalAnalysis\n",
    "from sksurv.ensemble import RandomSurvivalForest\n",
    "%load_ext autoreload\n",
    "%autoreload 2\n"
   ]
  },
  {
   "cell_type": "code",
   "execution_count": null,
   "metadata": {},
   "outputs": [],
   "source": [
    "df_train = pd.read_csv(\"xai_train_data.csv\")\n",
    "df_train_preprocessed, scaler = pre_process_seer_alternative(df_train)\n",
    "z = [(True, time) if event_ind == 'Dead' else (False, time) for event_ind, time in zip(df_train['Vital status recode (study cutoff used)'], df_train['Survival months'])]\n",
    "y = np.array(z, dtype=[(\"delta\", np.bool_), (\"time_to_event\", np.float32)])"
   ]
  },
  {
   "cell_type": "code",
   "execution_count": null,
   "metadata": {},
   "outputs": [],
   "source": [
    "# Cox\n",
    "model = CoxPHSurvivalAnalysis(alpha=0.1)\n",
    "# Fit the model on the training data.\n",
    "model.fit(df_train_preprocessed, y)"
   ]
  },
  {
   "cell_type": "code",
   "execution_count": null,
   "metadata": {},
   "outputs": [],
   "source": [
    "model.score(df_train_preprocessed, y)"
   ]
  },
  {
   "cell_type": "code",
   "execution_count": null,
   "metadata": {},
   "outputs": [],
   "source": [
    "# RSF\n",
    "rsf = RandomSurvivalForest(n_estimators=500, max_depth=10)\n",
    "rsf.fit(df_train_preprocessed, y)"
   ]
  },
  {
   "cell_type": "code",
   "execution_count": null,
   "metadata": {},
   "outputs": [],
   "source": [
    "model.score(df_train_preprocessed, y)"
   ]
  }
 ],
 "metadata": {
  "kernelspec": {
   "display_name": ".venv_xai_hc",
   "language": "python",
   "name": ".venv_xai_hc"
  },
  "language_info": {
   "codemirror_mode": {
    "name": "ipython",
    "version": 3
   },
   "file_extension": ".py",
   "mimetype": "text/x-python",
   "name": "python",
   "nbconvert_exporter": "python",
   "pygments_lexer": "ipython3",
   "version": "3.9.7"
  },
  "orig_nbformat": 4
 },
 "nbformat": 4,
 "nbformat_minor": 2
}
