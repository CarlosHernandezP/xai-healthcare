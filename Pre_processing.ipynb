{
 "cells": [
  {
   "cell_type": "code",
   "execution_count": 3,
   "id": "f3bb6d80-1e39-4d22-a24e-0ac70f9b1e77",
   "metadata": {},
   "outputs": [
    {
     "data": {
      "text/plain": [
       "Index(['Age recode with <1 year olds', 'Age recode with single ages and 90+',\n",
       "       'CS tumor size (2004-2015)', 'CS extension (2004-2015)',\n",
       "       'RX Summ--Surg Prim Site (1998+)', 'Sex',\n",
       "       'Race recode (White, Black, Other)', 'Marital status at diagnosis',\n",
       "       'Primary Site - labeled', 'Derived AJCC T, 6th ed (2004-2015)',\n",
       "       'Derived AJCC N, 6th ed (2004-2015)',\n",
       "       'Derived AJCC M, 6th ed (2004-2015)', 'Summary stage 2000 (1998-2017)',\n",
       "       'Reason no cancer-directed surgery', 'Radiation recode',\n",
       "       'Chemotherapy recode (yes, no/unk)',\n",
       "       'RX Summ--Scope Reg LN Sur (2003+)', 'RX Summ--Surg/Rad Seq',\n",
       "       'Median household income inflation adj to 2021',\n",
       "       'Vital status recode (study cutoff used)', 'Survival months',\n",
       "       'ICD-O-3 Hist/behav',\n",
       "       'COD to site recode ICD-O-3 2023 Revision Expanded (1999+)'],\n",
       "      dtype='object')"
      ]
     },
     "execution_count": 3,
     "metadata": {},
     "output_type": "execute_result"
    }
   ],
   "source": [
    "import pandas as pd\n",
    "from sklearn.compose import ColumnTransformer\n",
    "from sklearn.preprocessing import OneHotEncoder\n",
    "import numpy as np\n",
    "\n",
    "df = pd.read_csv('xai_train_data.csv')\n",
    "df.columns"
   ]
  },
  {
   "cell_type": "code",
   "execution_count": 73,
   "id": "604c572f-e246-41c0-9cfa-f6b866622315",
   "metadata": {},
   "outputs": [
    {
     "data": {
      "text/plain": [
       "Localized    21678\n",
       "Regional      2162\n",
       "Distant        473\n",
       "Name: Summary stage 2000 (1998-2017), dtype: int64"
      ]
     },
     "execution_count": 73,
     "metadata": {},
     "output_type": "execute_result"
    }
   ],
   "source": [
    "df['Summary stage 2000 (1998-2017)'].value_counts()"
   ]
  },
  {
   "cell_type": "code",
   "execution_count": 74,
   "id": "a6aeb77d-2ccf-493a-a6af-ebff2272b6e3",
   "metadata": {},
   "outputs": [],
   "source": [
    "categorical_cols = []\n",
    "categories = []\n",
    "\n",
    "### Age - TODO divide into three total groups\n",
    "df['Age_coded'] = [int(x[:2]) for x in df['Age recode with single ages and 90+']]\n",
    "\n",
    "### Tumor size\n",
    "df['Tumor_size_coded'] = df['CS tumor size (2004-2015)'].apply(np.log)\n",
    "\n",
    "### Tumor extension -> Coded as OHE\n",
    "tumor_ext_values = [100, 330, 400, 200, 300, 310, 500, 315, 350, 355, 375, 320, 340,\n",
    "       360, 380, 800, 335, 370]\n",
    "tumor_ext_values_str = [str(x) for x in tumor_ext_values]\n",
    "categories.append(tumor_ext_values_str)\n",
    "categorical_cols.append('CS extension (2004-2015)')\n",
    "\n",
    "### RX Summ--Surg Prim Site (1998+) -> convert to int\n",
    "df['Prim_site_coded'] = df['RX Summ--Surg Prim Site (1998+)'].astype(int)\n",
    "\n",
    "### Sex binary variable\n",
    "df['Sex_coded'] = [1 if x=='Female' else 0 for x in df['Sex']]\n",
    "\n",
    "### Race -> Categorical variable\n",
    "# define the mapping of old to new values\n",
    "race_mapping = {\n",
    "    'White': 'White',\n",
    "    'Black': 'Other',\n",
    "    'Other (American Indian/AK Native, Asian/Pacific Islander)': 'Other',\n",
    "    'Unknown': 'Other'\n",
    "}\n",
    "df['Race_mapped'] = [1 if x=='White' else 0 for x in df['Race recode (White, Black, Other)']]\n",
    "\n",
    "\n",
    "### Marital status -> OHE TBD how to combine them\n",
    "marital_mapping = {\n",
    "    'Married (including common law)': 'Married',\n",
    "    'Widowed': 'Married',\n",
    "    'Unmarried or Domestic Partner': 'Married',\n",
    "    'Single (never married)': 'Single',\n",
    "    'Unknown': 'Other',\n",
    "    'Divorced': 'Other',\n",
    "    'Separated': 'Other'\n",
    "}\n",
    "\n",
    "df['Marital_mapped'] = df['Marital status at diagnosis'].replace(marital_mapping)\n",
    "marital_values = ['Single', 'Married', 'Other']\n",
    "categories.append(marital_values)\n",
    "categorical_cols.append('Marital_mapped')\n",
    "\n",
    "### Primary Site - labeled -> OHE with the classes being HF, trunk and limbs\n",
    "primary_site_mapping = { \n",
    "    'C44.3-Skin other/unspec parts of face': 'HF',\n",
    "    'C44.4-Skin of scalp and neck': 'HF',\n",
    "    'C44.2-External ear': 'HF',\n",
    "    'C44.1-Eyelid': 'HF',\n",
    "    'C44.0-Skin of lip, NOS': 'HF',\n",
    "    \n",
    "    'C44.5-Skin of trunk': 'Trunk',\n",
    "    \n",
    "    'C44.6-Skin of upper limb and shoulder': 'Limbs',\n",
    "    'C44.7-Skin of lower limb and hip': 'Limbs',\n",
    "    'C44.8-Overlapping lesion of skin': 'Limbs',\n",
    "    'C44.9-Skin, NOS': 'Limbs'\n",
    "}\n",
    "\n",
    "\n",
    "df['Primary_Site_coded'] = df['Primary Site - labeled'].replace(primary_site_mapping)\n",
    "primary_site_values = ['HF', 'Limbs', 'Trunk']\n",
    "categories.append(primary_site_values)\n",
    "categorical_cols.append('Primary_Site_coded')\n",
    "\n",
    "### TNM -> OHE\n",
    "# T\n",
    "t_values = ['T0', 'T2a', 'T1a', 'T1NOS', 'T2b', 'T1b', 'T3b', 'T3a', 'TX', 'T4b',\n",
    "       'T4a', 'T2NOS', 'T4NOS', 'T3NOS']\n",
    "categories.append(t_values)\n",
    "categorical_cols.append('Derived AJCC T, 6th ed (2004-2015)')\n",
    "\n",
    "# N --- TODO N0 is 0 and the rest is 1\n",
    "n_values = df['Derived AJCC N, 6th ed (2004-2015)'].unique()\n",
    "\n",
    "categories.append(n_values)\n",
    "categorical_cols.append('Derived AJCC N, 6th ed (2004-2015)')\n",
    "\n",
    "# M TODO M0 is 0 and the rest is 1\n",
    "m_values = df['Derived AJCC M, 6th ed (2004-2015)'].unique()\n",
    "\n",
    "categories.append(m_values)\n",
    "categorical_cols.append('Derived AJCC M, 6th ed (2004-2015)')\n",
    "\n",
    "### Summary stage 2000 (1998-2017) -> Ordinal variable or OHE\n",
    "summary_values = df['Summary stage 2000 (1998-2017)'].unique()\n",
    "\n",
    "categories.append(summary_values)\n",
    "categorical_cols.append('Summary stage 2000 (1998-2017)')\n",
    "\n",
    "### Radiation recode -> binary variable\n",
    "# create a dictionary of values to be replaced with 1\n",
    "radiation_mapping = {'Beam radiation': 1, 'Radiation, NOS  method or source not specified': 1,\n",
    "                'Radioactive implants (includes brachytherapy) (1988+)': 1}\n",
    "\n",
    "df['Radiation_mapped'] = df['Radiation recode'].replace(radiation_mapping)\n",
    "df['Radiation_mapped'] = df['Radiation recode'].apply(lambda x: 0 if x!=1 else x)\n",
    "\n",
    "### Chemotherapy recode (yes, no/unk) -> Binary\n",
    "df['Chemotherapy_coded'] = [1 if x=='yes' else 0 for x in df['Chemotherapy recode (yes, no/unk)']]\n",
    "\n",
    "### RX Summ--Scope Reg LN Sur (2003+) -> None and Unknown or not applicable as NO and the rest YES\n",
    "df['SLNB_Scope_coded'] = [0 if x in ['None', 'Unknown or not applicable'] else 1 for x in df['RX Summ--Scope Reg LN Sur (2003+)']]\n",
    "                                       \n",
    "### RX Summ--Surg/Rad Seq -> No rad... as NO the rest YES\n",
    "df['RX Summ--Scope Reg LN Sur (2003+)'] = [0 if x=='No radiation and/or cancer-directed surgery' else 1 for x in df['RX Summ--Surg/Rad Seq']]\n",
    "\n",
    "### Median household income inflation adj to 2021 -> Two to three categories OHE\n",
    "# define a function to map income to categories\n",
    "def income_categories(income):\n",
    "    if income.startswith('$75,000+'):\n",
    "        return 'high'\n",
    "    elif income.startswith('$65,000') or income.startswith('$70,000'):\n",
    "        return 'medium'\n",
    "    else:\n",
    "        return 'low'\n",
    "\n",
    "# apply the function to the income column and create a new column for the categories\n",
    "df['Income_coded'] = df['Median household income inflation adj to 2021'].apply(income_categories)\n"
   ]
  },
  {
   "cell_type": "code",
   "execution_count": 75,
   "id": "224ed650-19b9-4610-9411-cf2703af1b4c",
   "metadata": {},
   "outputs": [],
   "source": [
    "# instantiate the ColumnTransformer object\n",
    "ct = ColumnTransformer([\n",
    "        (\"encoder\", OneHotEncoder(categories=categories[1:], drop='first'), categorical_cols[1:])\n",
    "    ], remainder=\"passthrough\")\n",
    "\n",
    "# fit the ColumnTransformer to the data and transform it\n",
    "encoded_data = ct.fit_transform(df)"
   ]
  },
  {
   "cell_type": "code",
   "execution_count": 76,
   "id": "45645351-e69b-4a6e-81a6-17689628fd37",
   "metadata": {},
   "outputs": [
    {
     "data": {
      "text/plain": [
       "high      12218\n",
       "medium     6195\n",
       "low        5900\n",
       "Name: Income_coded, dtype: int64"
      ]
     },
     "execution_count": 76,
     "metadata": {},
     "output_type": "execute_result"
    }
   ],
   "source": [
    "df['Income_coded'].value_counts()"
   ]
  },
  {
   "cell_type": "code",
   "execution_count": 66,
   "id": "f85b073f-0206-444e-8e20-db48ba1eb732",
   "metadata": {},
   "outputs": [
    {
     "data": {
      "text/plain": [
       "[['Single', 'Married', 'Other'],\n",
       " ['HF', 'Limbs', 'Other'],\n",
       " ['T0',\n",
       "  'T2a',\n",
       "  'T1a',\n",
       "  'T1NOS',\n",
       "  'T2b',\n",
       "  'T1b',\n",
       "  'T3b',\n",
       "  'T3a',\n",
       "  'TX',\n",
       "  'T4b',\n",
       "  'T4a',\n",
       "  'T2NOS',\n",
       "  'T4NOS',\n",
       "  'T3NOS'],\n",
       " array(['N0', 'NX', 'N1a', 'N2b', 'N3', 'N2a', 'N1NOS', 'N1b', 'N2c',\n",
       "        'N2NOS', 'N1', 'N2'], dtype=object),\n",
       " array(['M0', 'MX', 'M1c', 'M1b', 'M1a', 'M1NOS'], dtype=object),\n",
       " array(['Localized', 'Regional', 'Distant'], dtype=object)]"
      ]
     },
     "execution_count": 66,
     "metadata": {},
     "output_type": "execute_result"
    }
   ],
   "source": [
    "# get columns that end with '_coded'\n",
    "coded_cols = [col for col in df.columns if col.endswith('_coded')]\n",
    "\n",
    "# get columns from categorical_variables list\n",
    "for sublist in categorical_variables:\n",
    "    for col in sublist:\n",
    "        if col not in coded_cols:\n",
    "            coded_cols.append(col)\n"
   ]
  }
 ],
 "metadata": {
  "kernelspec": {
   "display_name": "Python 3 (ipykernel)",
   "language": "python",
   "name": "python3"
  },
  "language_info": {
   "codemirror_mode": {
    "name": "ipython",
    "version": 3
   },
   "file_extension": ".py",
   "mimetype": "text/x-python",
   "name": "python",
   "nbconvert_exporter": "python",
   "pygments_lexer": "ipython3",
   "version": "3.8.10"
  }
 },
 "nbformat": 4,
 "nbformat_minor": 5
}
