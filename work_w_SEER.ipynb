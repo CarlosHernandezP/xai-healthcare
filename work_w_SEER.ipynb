{
 "cells": [
  {
   "cell_type": "code",
   "execution_count": 1,
   "id": "e65dd991-e682-4584-8cb3-3b6bec04f12d",
   "metadata": {},
   "outputs": [],
   "source": [
    "%load_ext autoreload\n",
    "%autoreload 2\n",
    "\n",
    "import pandas as pd\n",
    "#df_mel['Primary Site - labeled'].unique()"
   ]
  },
  {
   "cell_type": "code",
   "execution_count": 2,
   "id": "1af0ca06-b97f-4813-8167-57970da10ac0",
   "metadata": {},
   "outputs": [],
   "source": [
    "df = pd.read_csv('data_revised_w_cris.csv', engine='python', error_bad_lines=False)"
   ]
  },
  {
   "cell_type": "code",
   "execution_count": 3,
   "id": "956e9bb9-b446-445b-a626-05acde615169",
   "metadata": {},
   "outputs": [],
   "source": [
    "#for strat, data in df_mel.groupby(['Primary Site - labeled', 'COD to site recode ICD-O-3 2023 Revision Expanded (1999+)']):\n",
    "#    print(f'Looking at variable {strat} with size {len(data)}')\n",
    "#df['ICD-O-3 Hist/behav'].unique()"
   ]
  },
  {
   "cell_type": "markdown",
   "id": "a1e166c3-7933-4d4d-b3c1-944e340d37df",
   "metadata": {},
   "source": [
    "### Inclusion criteria"
   ]
  },
  {
   "cell_type": "code",
   "execution_count": 4,
   "id": "6eca9180-7e37-41db-b937-bd604d75b99e",
   "metadata": {},
   "outputs": [
    {
     "name": "stderr",
     "output_type": "stream",
     "text": [
      "/tmp/ipykernel_2122025/1574326366.py:8: FutureWarning: The pandas.np module is deprecated and will be removed from pandas in a future version. Import numpy directly instead\n",
      "  df_inclusion_w_nans = df_inclusion.replace('Blank(s)', pd.np.nan)\n"
     ]
    },
    {
     "data": {
      "text/plain": [
       "(117608, 23)"
      ]
     },
     "execution_count": 4,
     "metadata": {},
     "output_type": "execute_result"
    }
   ],
   "source": [
    "### Make it malignant melanoma only\n",
    "df_mel = df[df['ICD-O-3 Hist/behav']=='8720/3: Malignant melanoma, NOS']\n",
    "\n",
    "### Make it Melanoma of the skin only\n",
    "df_inclusion = df_mel[df_mel['Primary Site - labeled'].str.startswith('C44')]\n",
    "\n",
    "### Change Blank(s) to NaNs\n",
    "df_inclusion_w_nans = df_inclusion.replace('Blank(s)', pd.np.nan)\n",
    "\n",
    "### Drop all NaNs outside the 2004-2015 interval\n",
    "df_window = df_inclusion_w_nans.dropna(subset=['CS tumor size (2004-2015)'])\n",
    "\n",
    "df_window.shape"
   ]
  },
  {
   "cell_type": "code",
   "execution_count": 5,
   "id": "5d678bd0-a83c-45de-aed6-cfc40387da69",
   "metadata": {},
   "outputs": [
    {
     "data": {
      "text/plain": [
       "array(['950'], dtype=object)"
      ]
     },
     "execution_count": 5,
     "metadata": {},
     "output_type": "execute_result"
    }
   ],
   "source": [
    "df_inclusion['Derived AJCC T, 6th ed (2004-2015)'].unique()\n",
    "\n",
    "df_inclusion[df_inclusion['Derived AJCC T, 6th ed (2004-2015)']=='T0']['CS extension (2004-2015)'].unique()"
   ]
  },
  {
   "cell_type": "markdown",
   "id": "f63d2f9c-5469-4ff0-8ac1-68bcbf3d4a84",
   "metadata": {},
   "source": [
    "### Exclusion criteria"
   ]
  },
  {
   "cell_type": "code",
   "execution_count": 6,
   "id": "14ef842b-e1c9-4fce-8df6-093bb8b052c4",
   "metadata": {},
   "outputs": [
    {
     "name": "stderr",
     "output_type": "stream",
     "text": [
      "/tmp/ipykernel_2122025/1072989789.py:1: SettingWithCopyWarning: \n",
      "A value is trying to be set on a copy of a slice from a DataFrame.\n",
      "Try using .loc[row_indexer,col_indexer] = value instead\n",
      "\n",
      "See the caveats in the documentation: https://pandas.pydata.org/pandas-docs/stable/user_guide/indexing.html#returning-a-view-versus-a-copy\n",
      "  df_window['CS tumor size (2004-2015)'] = df_window['CS tumor size (2004-2015)'].astype(int)\n"
     ]
    },
    {
     "data": {
      "text/plain": [
       "(34929, 23)"
      ]
     },
     "execution_count": 6,
     "metadata": {},
     "output_type": "execute_result"
    }
   ],
   "source": [
    "df_window['CS tumor size (2004-2015)'] = df_window['CS tumor size (2004-2015)'].astype(int)\n",
    "df_exclusion = df_window[ (df_window['CS tumor size (2004-2015)']<990)]\n",
    "\n",
    "### Values with 999 are of unknown extension and values of 950 state that there is no evidence of primary tumour \n",
    "### https://staging.seer.cancer.gov/cs/input/02.05.50/merkel_cell_skin/extension/?version=/tnm/home/1.5/\n",
    "df_exclusion = df_exclusion[df_exclusion['CS extension (2004-2015)'].astype(int) <960]\n",
    "\n",
    "### As stated in the article https://www.frontiersin.org/articles/10.3389/fmed.2023.1165865/full\n",
    "### We exclude patients with no surgery\n",
    "df_exclusion= df_exclusion[df_exclusion['Reason no cancer-directed surgery']=='Surgery performed']\n",
    "\n",
    "df_exclusion.to_csv('data_seer_publication.csv' , index=False)\n",
    "df_exclusion.shape"
   ]
  },
  {
   "cell_type": "markdown",
   "id": "45b245f2-4d13-419c-8e6c-d2a07cf3c436",
   "metadata": {},
   "source": [
    "### Final data"
   ]
  },
  {
   "cell_type": "code",
   "execution_count": 7,
   "id": "c88d4db4-8e4a-4aff-ac65-413f571e746a",
   "metadata": {},
   "outputs": [
    {
     "data": {
      "text/plain": [
       "array(['T4b', 'T1a', 'T1NOS', 'TX', 'T2a', 'T3a', 'T1b', 'T0', 'T2NOS',\n",
       "       'T2b', 'T4a', 'T3b', 'T4NOS', 'T3NOS'], dtype=object)"
      ]
     },
     "execution_count": 7,
     "metadata": {},
     "output_type": "execute_result"
    }
   ],
   "source": [
    "df_final = pd.read_csv('data_seer_publication.csv')\n",
    "df_coded = pd.DataFrame()\n",
    "df_final['Derived AJCC T, 6th ed (2004-2015)'].unique()"
   ]
  },
  {
   "cell_type": "code",
   "execution_count": 8,
   "id": "1e3b3a18-32d1-45f3-a317-3331876585f5",
   "metadata": {},
   "outputs": [
    {
     "name": "stdout",
     "output_type": "stream",
     "text": [
      "X_train shape: (24450, 23)\n",
      "X_test shape: (10479, 23)\n",
      "y_train shape: (24450,)\n",
      "y_test shape: (10479,)\n"
     ]
    },
    {
     "data": {
      "text/plain": [
       "None/Unknown                                             10284\n",
       "Beam radiation                                             165\n",
       "Recommended, unknown if administered                        13\n",
       "Refused (1988+)                                             10\n",
       "Radioactive implants (includes brachytherapy) (1988+)        3\n",
       "Radiation, NOS  method or source not specified               2\n",
       "Radioisotopes (1988+)                                        1\n",
       "Combination of beam with implants or isotopes                1\n",
       "Name: Radiation recode, dtype: int64"
      ]
     },
     "execution_count": 8,
     "metadata": {},
     "output_type": "execute_result"
    }
   ],
   "source": [
    "from sklearn.model_selection import train_test_split\n",
    "import numpy as np\n",
    "\n",
    "# example data\n",
    "X = df_final\n",
    "y = np.zeros(len(df_final))\n",
    "\n",
    "# split the data into training and testing sets\n",
    "X_train, X_test, y_train, y_test = train_test_split(X, y, test_size=0.3, random_state=42)\n",
    "\n",
    "\n",
    "X_train.to_csv('xai_train_data.csv', index=False)\n",
    "X_test.to_csv('xai_test_data.csv', index=False)\n",
    "# print the shape of the training and testing sets\n",
    "print(\"X_train shape:\", X_train.shape)\n",
    "print(\"X_test shape:\", X_test.shape)\n",
    "print(\"y_train shape:\", y_train.shape)\n",
    "print(\"y_test shape:\", y_test.shape)\n",
    "\n",
    "X_test['Radiation recode'].value_counts()"
   ]
  },
  {
   "cell_type": "code",
   "execution_count": 169,
   "id": "bf8042af-f304-45b2-bbcc-bdc467929fa6",
   "metadata": {},
   "outputs": [
    {
     "data": {
      "text/plain": [
       "$75,000+                                  17492\n",
       "$65,000 - $69,999                          4555\n",
       "$70,000 - $74,999                          4257\n",
       "$60,000 - $64,999                          2766\n",
       "$55,000 - $59,999                          1923\n",
       "$50,000 - $54,999                          1640\n",
       "$45,000 - $49,999                          1074\n",
       "$40,000 - $44,999                           555\n",
       "$35,000 - $39,999                           302\n",
       "< $35,000                                   169\n",
       "Unknown/missing/no match/Not 1990-2021        1\n",
       "Name: Median household income inflation adj to 2021, dtype: int64"
      ]
     },
     "execution_count": 169,
     "metadata": {},
     "output_type": "execute_result"
    }
   ],
   "source": [
    "var = 'Median household income inflation adj to 2021'\n",
    "df_final[var].value_counts()"
   ]
  },
  {
   "cell_type": "code",
   "execution_count": 134,
   "id": "b58230a2-8478-45b6-8488-9e62aa68aa5d",
   "metadata": {},
   "outputs": [
    {
     "data": {
      "image/png": "[encoded data removed]",
      "text/plain": [
       "<Figure size 432x288 with 1 Axes>"
      ]
     },
     "metadata": {
      "needs_background": "light"
     },
     "output_type": "display_data"
    }
   ],
   "source": [
    "### Age\n",
    "df_final['Age recode with single ages and 90+'].iloc[0][:2]\n",
    "df_coded['Age_coded'] = [int(x[:2]) for x in df_final['Age recode with single ages and 90+']]\n",
    "\n",
    "### Tumor size\n",
    "df_coded['Tumor size coded'] = df_final['CS tumor size (2004-2015)'].apply(np.log).hist()\n",
    "\n",
    "### Tumor extension -> Coded as OHE\n",
    "### RX Summ--Surg Prim Site (1998+) -> convert to int\n",
    "\n",
    "### Sex binary variable\n",
    "\n",
    "### Race -> Categorical variable\n",
    "\n",
    "### Marital status -> OHE TBD how to combine them\n",
    "\n",
    "### Primary Site - labeled -> OHE with the classes being HF, trunk and limbs\n",
    "\n",
    "### TNM -> OHE\n",
    "\n",
    "### Summary stage 2000 (1998-2017) -> Ordinal variable or OHE\n",
    "\n",
    "### Radiation recode -> binary variable\n",
    "###### Beam radiation - Radiation, NOS  method or source not specified\n",
    "###### Radioactive implants (includes brachytherapy) (1988+) and Radioisotopes (1988+)               \n",
    "###### Equal Yes the rest as No.\n",
    "\n",
    "### Chemotherapy recode (yes, no/unk) -> Binary\n",
    "\n",
    "### RX Summ--Scope Reg LN Sur (2003+) -> None and Unknown or not applicable as NO and the rest YES\n",
    "\n",
    "### RX Summ--Surg/Rad Seq -> No rad... as YES the rest NO\n",
    "\n",
    "### Median household income inflation adj to 2021 -> Two to three categories OHE"
   ]
  },
  {
   "cell_type": "code",
   "execution_count": 135,
   "id": "1215ff32-5ca9-455f-a201-7a71493e35a3",
   "metadata": {},
   "outputs": [
    {
     "data": {
      "text/plain": [
       "31    8955\n",
       "45    7044\n",
       "30    5686\n",
       "46    3397\n",
       "27    3370\n",
       "32    3035\n",
       "47    1306\n",
       "0     1201\n",
       "33    1034\n",
       "20     522\n",
       "34     445\n",
       "35     333\n",
       "36     180\n",
       "60     144\n",
       "90      65\n",
       "99      30\n",
       "22      11\n",
       "25      11\n",
       "21       4\n",
       "26       3\n",
       "10       2\n",
       "23       2\n",
       "13       1\n",
       "11       1\n",
       "14       1\n",
       "Name: RX Summ--Surg Prim Site (1998+), dtype: int64"
      ]
     },
     "execution_count": 135,
     "metadata": {},
     "output_type": "execute_result"
    }
   ],
   "source": [
    "df_final['RX Summ--Surg Prim Site (1998+)'].value_counts()"
   ]
  },
  {
   "cell_type": "markdown",
   "id": "02988a3d-be6e-49c5-8e34-d28790801f50",
   "metadata": {},
   "source": [
    "#### Continuous variables\n",
    "- Age\n",
    "- Tumor size (After prerocessing)"
   ]
  },
  {
   "cell_type": "markdown",
   "id": "5b7ff507-a505-4464-9620-672552313c62",
   "metadata": {},
   "source": [
    "#### Categorical variables\n"
   ]
  },
  {
   "cell_type": "markdown",
   "id": "dc54c7f6-f1d0-4824-8ddd-52a801e916eb",
   "metadata": {},
   "source": [
    "#### Binary variables\n",
    "- Sex"
   ]
  }
 ],
 "metadata": {
  "kernelspec": {
   "display_name": "Python 3 (ipykernel)",
   "language": "python",
   "name": "python3"
  },
  "language_info": {
   "codemirror_mode": {
    "name": "ipython",
    "version": 3
   },
   "file_extension": ".py",
   "mimetype": "text/x-python",
   "name": "python",
   "nbconvert_exporter": "python",
   "pygments_lexer": "ipython3",
   "version": "3.8.10"
  }
 },
 "nbformat": 4,
 "nbformat_minor": 5
}
